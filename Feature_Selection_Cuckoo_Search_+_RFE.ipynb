{
  "nbformat": 4,
  "nbformat_minor": 0,
  "metadata": {
    "colab": {
      "provenance": [],
      "gpuType": "V28"
    },
    "kernelspec": {
      "name": "python3",
      "display_name": "Python 3"
    },
    "language_info": {
      "name": "python"
    },
    "accelerator": "TPU"
  },
  "cells": [
    {
      "cell_type": "code",
      "source": [
        "!pip install niapy"
      ],
      "metadata": {
        "colab": {
          "base_uri": "https://localhost:8080/"
        },
        "id": "hsFjM1quBIiT",
        "outputId": "06d85169-e489-4143-ee89-f20a0f4ed8fc"
      },
      "execution_count": null,
      "outputs": [
        {
          "output_type": "stream",
          "name": "stdout",
          "text": [
            "Requirement already satisfied: niapy in /usr/local/lib/python3.10/dist-packages (2.5.1)\n",
            "Requirement already satisfied: matplotlib<4.0.0,>=3.8.0 in /usr/local/lib/python3.10/dist-packages (from niapy) (3.8.0)\n",
            "Requirement already satisfied: numpy<2.0.0,>=1.26.1 in /usr/local/lib/python3.10/dist-packages (from niapy) (1.26.4)\n",
            "Requirement already satisfied: openpyxl<4.0.0,>=3.1.2 in /usr/local/lib/python3.10/dist-packages (from niapy) (3.1.5)\n",
            "Requirement already satisfied: pandas<3.0.0,>=2.1.1 in /usr/local/lib/python3.10/dist-packages (from niapy) (2.2.2)\n",
            "Requirement already satisfied: contourpy>=1.0.1 in /usr/local/lib/python3.10/dist-packages (from matplotlib<4.0.0,>=3.8.0->niapy) (1.3.1)\n",
            "Requirement already satisfied: cycler>=0.10 in /usr/local/lib/python3.10/dist-packages (from matplotlib<4.0.0,>=3.8.0->niapy) (0.12.1)\n",
            "Requirement already satisfied: fonttools>=4.22.0 in /usr/local/lib/python3.10/dist-packages (from matplotlib<4.0.0,>=3.8.0->niapy) (4.55.1)\n",
            "Requirement already satisfied: kiwisolver>=1.0.1 in /usr/local/lib/python3.10/dist-packages (from matplotlib<4.0.0,>=3.8.0->niapy) (1.4.7)\n",
            "Requirement already satisfied: packaging>=20.0 in /usr/local/lib/python3.10/dist-packages (from matplotlib<4.0.0,>=3.8.0->niapy) (24.2)\n",
            "Requirement already satisfied: pillow>=6.2.0 in /usr/local/lib/python3.10/dist-packages (from matplotlib<4.0.0,>=3.8.0->niapy) (11.0.0)\n",
            "Requirement already satisfied: pyparsing>=2.3.1 in /usr/local/lib/python3.10/dist-packages (from matplotlib<4.0.0,>=3.8.0->niapy) (3.2.0)\n",
            "Requirement already satisfied: python-dateutil>=2.7 in /usr/local/lib/python3.10/dist-packages (from matplotlib<4.0.0,>=3.8.0->niapy) (2.9.0.post0)\n",
            "Requirement already satisfied: et-xmlfile in /usr/local/lib/python3.10/dist-packages (from openpyxl<4.0.0,>=3.1.2->niapy) (2.0.0)\n",
            "Requirement already satisfied: pytz>=2020.1 in /usr/local/lib/python3.10/dist-packages (from pandas<3.0.0,>=2.1.1->niapy) (2024.2)\n",
            "Requirement already satisfied: tzdata>=2022.7 in /usr/local/lib/python3.10/dist-packages (from pandas<3.0.0,>=2.1.1->niapy) (2024.2)\n",
            "Requirement already satisfied: six>=1.5 in /usr/local/lib/python3.10/dist-packages (from python-dateutil>=2.7->matplotlib<4.0.0,>=3.8.0->niapy) (1.16.0)\n"
          ]
        }
      ]
    },
    {
      "cell_type": "code",
      "execution_count": null,
      "metadata": {
        "id": "Li0J2w4_jyJg"
      },
      "outputs": [],
      "source": [
        "import pandas as pd\n",
        "import numpy as np\n",
        "from sklearn.preprocessing import StandardScaler\n",
        "from sklearn.svm import SVC\n",
        "from sklearn.feature_selection import RFE\n",
        "from sklearn.preprocessing import StandardScaler\n",
        "from sklearn.metrics import accuracy_score, classification_report\n",
        "from niapy.task import Task\n",
        "from niapy.problems import Problem\n",
        "from niapy.algorithms.basic import CuckooSearch"
      ]
    },
    {
      "cell_type": "code",
      "source": [
        "# Load from the .txt files\n",
        "features_file = \"X_train.txt\"\n",
        "labels_file = \"y_train.txt\"\n",
        "features_test_file = \"X_test.txt\"\n",
        "labels_test_file = \"y_test.txt\"\n",
        "\n",
        "x_train = np.loadtxt(features_file)\n",
        "y_train = np.loadtxt(labels_file)\n",
        "X_test = np.loadtxt(features_test_file)\n",
        "y_test = np.loadtxt(labels_test_file)\n",
        "\n",
        "print(f\"Size of x_train: {x_train.shape}\")\n",
        "print(f\"Size of y_train: {y_train.shape}\")\n",
        "print(f\"Size of X_test: {X_test.shape}\")\n",
        "print(f\"Size of y_test: {y_test.shape}\")"
      ],
      "metadata": {
        "colab": {
          "base_uri": "https://localhost:8080/"
        },
        "id": "Ge9Hga78kFRA",
        "outputId": "502c49ff-4867-40a2-f328-008e2329b6cd"
      },
      "execution_count": null,
      "outputs": [
        {
          "output_type": "stream",
          "name": "stdout",
          "text": [
            "Size of x_train: (7352, 561)\n",
            "Size of y_train: (7352,)\n",
            "Size of X_test: (2947, 561)\n",
            "Size of y_test: (2947,)\n"
          ]
        }
      ]
    },
    {
      "cell_type": "code",
      "source": [
        "# Convert NumPy arrays to Pandas DataFrames\n",
        "x_train = pd.DataFrame(x_train)\n",
        "y_train = pd.DataFrame(y_train, columns=[\"Label\"])\n",
        "x_test = pd.DataFrame(X_test)\n",
        "y_test = pd.DataFrame(y_test, columns=[\"Label\"])"
      ],
      "metadata": {
        "id": "ToZVVUfykHo3"
      },
      "execution_count": null,
      "outputs": []
    },
    {
      "cell_type": "code",
      "source": [
        "scaler = StandardScaler()\n",
        "x_train_scaled = scaler.fit_transform(x_train)\n",
        "x_test_scaled = scaler.transform(x_test)"
      ],
      "metadata": {
        "id": "y3Kyi1NckK2C"
      },
      "execution_count": null,
      "outputs": []
    },
    {
      "cell_type": "code",
      "source": [
        "# Feature Selection\n",
        "class FeatureSelectionProblem(Problem):\n",
        "    def __init__(self, x, y):\n",
        "        super().__init__(dimension=x.shape[1], lower=0, upper=1)\n",
        "        self.x = x\n",
        "        self.y = y\n",
        "\n",
        "    def _evaluate(self, solution):\n",
        "        selected_features = np.where(solution > 0.5)[0]\n",
        "        if len(selected_features) == 0:  # Avoid empty selection\n",
        "            return 1e6  # Large penalty\n",
        "        x_selected = self.x[:, selected_features]\n",
        "        model = SVC(kernel='linear')\n",
        "        model.fit(x_selected, self.y)\n",
        "        predictions = model.predict(x_selected)\n",
        "        return 1 - accuracy_score(self.y, predictions)  # Minimize 1 - accuracy\n",
        "\n",
        "# Problem and task\n",
        "problem = FeatureSelectionProblem(x_train_scaled, y_train.values.ravel())\n",
        "task = Task(problem=problem, max_iters=100)  # Adjust max_iters as needed\n",
        "\n",
        "# Run Cuckoo Search for feature selection\n",
        "cs = CuckooSearch(n=20, alpha=0.01, beta=1.5, seed=1234)\n",
        "best_solution = cs.run(task=task)[0]\n",
        "\n",
        "# Extract selected features from Cuckoo Search\n",
        "selected_features_cs = np.where(best_solution > 0.5)[0]\n",
        "print(\"Selected Features after Cuckoo Search (Indices):\", selected_features_cs)\n",
        "\n",
        "# Apply RFE on the selected features\n",
        "svc = SVC(kernel=\"linear\")\n",
        "rfe = RFE(estimator=svc, n_features_to_select=10)  # Adjust number of features to select\n",
        "rfe.fit(x_train_scaled[:, selected_features_cs], y_train.values.ravel())\n",
        "\n",
        "# Final selected features after RFE\n",
        "final_selected_features = selected_features_cs[rfe.support_]\n",
        "print(\"Final Selected Features after RFE (Indices):\", final_selected_features)"
      ],
      "metadata": {
        "colab": {
          "base_uri": "https://localhost:8080/"
        },
        "id": "5k0STTEAgarv",
        "outputId": "8544e994-3ce1-4fb6-e8f0-3ed13b293087"
      },
      "execution_count": null,
      "outputs": [
        {
          "output_type": "stream",
          "name": "stdout",
          "text": [
            "Selected Features after Cuckoo Search (Indices): [  0   1   2   3   4   6   7   8   9  10  11  12  13  20  21  22  23  24\n",
            "  25  26  27  30  32  33  34  35  36  37  38  39  41  43  45  47  52  53\n",
            "  55  57  64  65  68  70  71  73  77  78  79  81  83  85  86  88  90  91\n",
            "  92  95  97  98  99 103 104 108 110 115 116 117 118 120 121 122 123 126\n",
            " 127 128 129 130 132 135 136 137 142 144 145 146 147 149 151 152 155 156\n",
            " 157 159 161 162 163 164 166 167 168 170 171 172 177 179 180 181 182 183\n",
            " 187 189 190 193 194 195 196 197 199 200 202 204 205 206 211 212 213 214\n",
            " 215 216 217 221 223 224 225 226 230 231 232 234 242 247 248 250 251 254\n",
            " 255 259 260 261 262 263 265 267 268 271 272 277 279 281 282 287 289 290\n",
            " 292 295 296 297 299 300 301 302 304 307 308 309 310 311 313 315 317 323\n",
            " 325 327 328 332 334 338 339 341 343 345 347 353 356 357 359 363 365 367\n",
            " 368 369 370 373 374 375 376 377 379 380 381 382 383 387 389 390 393 396\n",
            " 398 400 402 404 408 409 413 414 415 416 417 420 423 424 425 426 429 432\n",
            " 435 437 439 443 444 445 449 451 452 453 454 455 456 457 458 460 467 468\n",
            " 470 471 472 474 477 480 481 483 484 486 487 489 490 491 492 493 495 496\n",
            " 498 499 500 501 502 504 505 506 509 511 512 514 516 517 520 522 523 525\n",
            " 526 529 531 532 533 537 538 539 540 544 545 546 548 549 550 551 554 557\n",
            " 559 560]\n",
            "Final Selected Features after RFE (Indices): [ 41  52  57  85 103 104 128 214 268 445]\n"
          ]
        }
      ]
    },
    {
      "cell_type": "code",
      "source": [
        "# SVM on the final selected features\n",
        "x_train_final = x_train_scaled[:, final_selected_features]\n",
        "x_test_final = x_test_scaled[:, final_selected_features]\n",
        "\n",
        "model = SVC(kernel=\"linear\")\n",
        "model.fit(x_train_final, y_train.values.ravel())\n",
        "\n",
        "y_pred = model.predict(x_test_final)\n",
        "print(\"Accuracy:\", accuracy_score(y_test, y_pred))\n",
        "print(\"Classification Report:\\n\", classification_report(y_test, y_pred))"
      ],
      "metadata": {
        "colab": {
          "base_uri": "https://localhost:8080/"
        },
        "id": "PvZvoU2KgyMC",
        "outputId": "0c9c6a40-1d3a-47f8-dc8d-24fd8f1a45d4"
      },
      "execution_count": null,
      "outputs": [
        {
          "output_type": "stream",
          "name": "stdout",
          "text": [
            "Accuracy: 0.8771632168306752\n",
            "Classification Report:\n",
            "               precision    recall  f1-score   support\n",
            "\n",
            "         1.0       0.85      0.89      0.87       496\n",
            "         2.0       0.87      0.85      0.85       471\n",
            "         3.0       0.81      0.79      0.80       420\n",
            "         4.0       0.92      0.78      0.84       491\n",
            "         5.0       0.82      0.94      0.88       532\n",
            "         6.0       1.00      1.00      1.00       537\n",
            "\n",
            "    accuracy                           0.88      2947\n",
            "   macro avg       0.88      0.87      0.87      2947\n",
            "weighted avg       0.88      0.88      0.88      2947\n",
            "\n"
          ]
        }
      ]
    }
  ]
}